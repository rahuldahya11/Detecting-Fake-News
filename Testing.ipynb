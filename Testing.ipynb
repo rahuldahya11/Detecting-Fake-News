{
 "cells": [
  {
   "cell_type": "markdown",
   "metadata": {},
   "source": [
    "# Installantions"
   ]
  },
  {
   "cell_type": "code",
   "execution_count": 33,
   "metadata": {},
   "outputs": [],
   "source": [
    "#Uncomment pip install below if using Python 2\n",
    "#pip install newspaper\n",
    "\n",
    "#Uncomment pip3 install below if using Python 3\n",
    "#pip3 install newspaper3k"
   ]
  },
  {
   "cell_type": "markdown",
   "metadata": {},
   "source": [
    "# Imports"
   ]
  },
  {
   "cell_type": "code",
   "execution_count": 42,
   "metadata": {},
   "outputs": [
    {
     "name": "stderr",
     "output_type": "stream",
     "text": [
      "[nltk_data] Downloading package punkt to /Users/rahul/nltk_data...\n",
      "[nltk_data]   Package punkt is already up-to-date!\n"
     ]
    },
    {
     "data": {
      "text/plain": [
       "True"
      ]
     },
     "execution_count": 42,
     "metadata": {},
     "output_type": "execute_result"
    }
   ],
   "source": [
    "#Necessary imports\n",
    "import newspaper\n",
    "\n",
    "#nltk for natural language processing\n",
    "import nltk\n",
    "nltk.download('punkt')"
   ]
  },
  {
   "cell_type": "markdown",
   "metadata": {},
   "source": [
    "# Article Scraping"
   ]
  },
  {
   "cell_type": "markdown",
   "metadata": {},
   "source": [
    "## URL"
   ]
  },
  {
   "cell_type": "code",
   "execution_count": 43,
   "metadata": {},
   "outputs": [
    {
     "name": "stdout",
     "output_type": "stream",
     "text": [
      "Paste article URL:https://www.cnn.com/2020/08/28/entertainment/chadwick-boseman-dies/index.html\n"
     ]
    }
   ],
   "source": [
    "#Input article URL\n",
    "url = input(\"Paste article URL:\" )"
   ]
  },
  {
   "cell_type": "markdown",
   "metadata": {},
   "source": [
    "### Supported languages"
   ]
  },
  {
   "cell_type": "code",
   "execution_count": 50,
   "metadata": {},
   "outputs": [],
   "source": [
    "#Uncomment below to view supported languages and its input code\n",
    "#newspaper.languages()"
   ]
  },
  {
   "cell_type": "code",
   "execution_count": 45,
   "metadata": {},
   "outputs": [],
   "source": [
    "# If no language is specified, Newspaper will attempt to auto detect a language.\n",
    "# Refer to cell above for input code if news sourse is in one laguage.\n",
    "article = Article(url, language = \"en\") # English"
   ]
  },
  {
   "cell_type": "code",
   "execution_count": 51,
   "metadata": {},
   "outputs": [],
   "source": [
    "# To download the article\n",
    "article.download()\n",
    "\n",
    "# To parse the article\n",
    "article.parse()\n",
    "\n",
    "# To perform natural language processing\n",
    "article.nlp()"
   ]
  },
  {
   "cell_type": "code",
   "execution_count": 47,
   "metadata": {},
   "outputs": [
    {
     "name": "stdout",
     "output_type": "stream",
     "text": [
      "Article Title:\n",
      "'Black Panther' star Chadwick Boseman dies at 43\n"
     ]
    }
   ],
   "source": [
    "# To extract article title\n",
    "print(\"Article Title:\")\n",
    "print(article.title)"
   ]
  },
  {
   "cell_type": "code",
   "execution_count": 52,
   "metadata": {
    "scrolled": true
   },
   "outputs": [
    {
     "name": "stdout",
     "output_type": "stream",
     "text": [
      "Article Text:\n",
      "(CNN) Actor Chadwick Boseman, who brought the movie \"Black Panther\" to life with his charismatic intensity and regal performance, has died.\n",
      "\n",
      "Boseman has battled colon cancer since 2016 and died at home with his family and wife by his side, according to a statement posted on his Twitter account. He was 43.\n",
      "\n",
      "\"A true fighter, Chadwick persevered through it all, and brought you so many of the films you have come to love so much,\" the statement said.\n",
      "\n",
      "\"From Marshall to Da 5 Bloods, August Wilson's Ma Rainey's Black Bottom and several more, all were filmed during and between countless surgeries and chemotherapy.\"\n",
      "\n",
      "With his role as King T'Challa in the boundary-breaking film \"Black Panther,\" he became a global icon and an inspiring symbol of Black power. That role was the \"honor of (Boseman's) career,\" the statement said.\n",
      "\n",
      "He graduated from Howard University\n",
      "\n",
      "A South Carolina native, Boseman graduated in 2000 from Howard University, a historically Black college in Washington, DC. While there, he also attended the British American Drama Academy at Oxford in 1998.\n",
      "\n",
      "\"It is with profound sadness that we mourn the loss of alumnus Chadwick Boseman who passed away this evening. His incredible talent will forever be immortalized through his characters and through his own personal journey from student to superhero! Rest in Power, Chadwick!\" University President Wayne A. I. Frederick said in a statement.\n",
      "\n",
      "\"His transcendent performance in '42' will stand the test of time and serve as a powerful vehicle to tell Jackie's story to audiences for generations to come,\" Major League Baseball tweeted Friday about the actor.\n",
      "\n",
      "The actor starred in other films, including playing James Brown in \" Get On Up \" and Thurgood Marshall in \" Marshall .\"\n",
      "\n",
      "Boseman returned to his alma mater in 2018 to give the commencement speech . He told the graduates about his early days acting on soap operas, saying he was fired from an unnamed production after he questioned what he felt was its stereotypical portrayal of Black characters.\n",
      "\n",
      "\"The struggles along the way are only meant to shape you for your purpose,\" he said at the time.\n",
      "\n",
      "He concluded with his iconic \"Wakanda Forever\" salute.\n",
      "\n",
      "'A superhero to many'\n",
      "\n",
      "Boseman \"brought history to life\" with his roles, Martin Luther King III said.\n",
      "\n",
      "\"As Black Panther, he was also a superhero to many,\" he wrote on Twitter. \"And despite his 4 year long battle with cancer, he kept fighting and he kept inspiring. He will be missed.\"\n",
      "\n",
      "The NAACP also paid tribute to the actor, saying Boseman showed \"us how to conquer adversity with grace.\"\n",
      "\n",
      "\"For showing us how to 'Say it Loud!' For (showing) us how to walk as a King, without losing the common touch. For showing us just how powerful we are,\" their Instagram statement said. \"Thank you #ChadwickBoseman.\"\n",
      "\n",
      "JUST WATCHED The Black Panther plays 'Jeopardy!' on 'SNL' Replay More Videos ... MUST WATCH The Black Panther plays 'Jeopardy!' on 'SNL' 01:34\n",
      "\n",
      "Sen. Kamala Harris, who also attended Howard, said she was heartbroken over Boseman's death.\n",
      "\n",
      "\"My friend and fellow Bison Chadwick Boseman was brilliant, kind, learned, and humble,\" she tweeted . \"He left too early but his life made a difference. Sending my sincere condolences to his family.\"\n",
      "\n",
      "Actor Mark Ruffalo, who starred aside Boseman in the Marvel movies as the Hulk, said the death adds to the growing list of tragedies in 2020.\n"
     ]
    }
   ],
   "source": [
    "# To extract artocle text\n",
    "print(\"Article Text:\")\n",
    "print(article.text)"
   ]
  },
  {
   "cell_type": "code",
   "execution_count": 53,
   "metadata": {},
   "outputs": [
    {
     "name": "stdout",
     "output_type": "stream",
     "text": [
      "Article Keywords:\n",
      "['boseman', 'star', 'statement', 'superhero', 'chadwick', 'black', 'marshall', 'panther', 'showing', 'dies', 'life', 'king', '43']\n"
     ]
    }
   ],
   "source": [
    "# To extract article keywords\n",
    "print(\"Article Keywords:\")\n",
    "print(article.keywords)"
   ]
  },
  {
   "cell_type": "code",
   "execution_count": null,
   "metadata": {},
   "outputs": [],
   "source": []
  }
 ],
 "metadata": {
  "kernelspec": {
   "display_name": "Python 3",
   "language": "python",
   "name": "python3"
  },
  "language_info": {
   "codemirror_mode": {
    "name": "ipython",
    "version": 3
   },
   "file_extension": ".py",
   "mimetype": "text/x-python",
   "name": "python",
   "nbconvert_exporter": "python",
   "pygments_lexer": "ipython3",
   "version": "3.7.6"
  }
 },
 "nbformat": 4,
 "nbformat_minor": 4
}
